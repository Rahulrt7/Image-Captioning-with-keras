{
 "cells": [
  {
   "cell_type": "code",
   "execution_count": 1,
   "metadata": {
    "collapsed": false,
    "deletable": true,
    "editable": true
   },
   "outputs": [
    {
     "name": "stderr",
     "output_type": "stream",
     "text": [
      "Using TensorFlow backend.\n"
     ]
    }
   ],
   "source": [
    "import numpy as np\n",
    "import copy\n",
    "import h5py\n",
    "import matplotlib.pyplot as plt\n",
    "from cs231n.coco_utils import load_coco_data\n",
    "%matplotlib inline\n",
    "\n",
    "from keras.models import Sequential\n",
    "from keras.models import load_model\n",
    "from keras.layers import Dense, Activation, TimeDistributed\n",
    "from keras.layers import Embedding, Dropout\n",
    "from keras.layers import LSTM\n",
    "from keras import callbacks, utils, optimizers"
   ]
  },
  {
   "cell_type": "markdown",
   "metadata": {
    "deletable": true,
    "editable": true
   },
   "source": [
    "### Loading the data to Memory"
   ]
  },
  {
   "cell_type": "code",
   "execution_count": 2,
   "metadata": {
    "collapsed": false,
    "deletable": true,
    "editable": true
   },
   "outputs": [
    {
     "name": "stdout",
     "output_type": "stream",
     "text": [
      "idx_to_word <type 'list'> 1004\n",
      "train_captions <type 'numpy.ndarray'> (400135, 17) int32\n",
      "val_captions <type 'numpy.ndarray'> (195954, 17) int32\n",
      "train_image_idxs <type 'numpy.ndarray'> (400135,) int32\n",
      "val_features <type 'numpy.ndarray'> (40504, 512) float32\n",
      "val_image_idxs <type 'numpy.ndarray'> (195954,) int32\n",
      "train_features <type 'numpy.ndarray'> (82783, 512) float32\n",
      "train_urls <type 'numpy.ndarray'> (82783,) |S63\n",
      "val_urls <type 'numpy.ndarray'> (40504,) |S63\n",
      "word_to_idx <type 'dict'> 1004\n"
     ]
    }
   ],
   "source": [
    "\n",
    "data = load_coco_data(pca_features=True)\n",
    "\n",
    "# Print out all the keys and values from the data dictionary\n",
    "for k, v in data.iteritems():\n",
    "  if type(v) == np.ndarray:\n",
    "    print k, type(v), v.shape, v.dtype\n",
    "  else:\n",
    "    print k, type(v), len(v)"
   ]
  },
  {
   "cell_type": "code",
   "execution_count": 3,
   "metadata": {
    "collapsed": false,
    "deletable": true,
    "editable": true
   },
   "outputs": [],
   "source": [
    "train_captions_mat = data['train_captions']\n",
    "val_captions_mat = data['val_captions']\n",
    "idx_to_word = data['idx_to_word']"
   ]
  },
  {
   "cell_type": "code",
   "execution_count": 4,
   "metadata": {
    "collapsed": true,
    "deletable": true,
    "editable": true
   },
   "outputs": [],
   "source": [
    "num_train_cap = 20000\n",
    "num_val_cap = 1000"
   ]
  },
  {
   "cell_type": "code",
   "execution_count": 47,
   "metadata": {
    "collapsed": false
   },
   "outputs": [
    {
     "data": {
      "text/plain": [
       "'http://farm8.staticflickr.com/7003/6528937031_10e1ce0960_z.jpg'"
      ]
     },
     "execution_count": 47,
     "metadata": {},
     "output_type": "execute_result"
    }
   ],
   "source": [
    "a=  data['val_image_idxs'][3]\n",
    "b = data['val_urls'][a]\n",
    "b"
   ]
  },
  {
   "cell_type": "code",
   "execution_count": 5,
   "metadata": {
    "collapsed": false,
    "deletable": true,
    "editable": true
   },
   "outputs": [
    {
     "name": "stdout",
     "output_type": "stream",
     "text": [
      "[  1   4 142 510  10 667 415 277  58   2   0   0   0   0   0   0   0]\n",
      "<START> a very clean and well decorated empty bathroom <END> <NULL> <NULL> <NULL> <NULL> <NULL> <NULL> <NULL>\n"
     ]
    }
   ],
   "source": [
    "print train_captions_mat[0]\n",
    "for i in train_captions_mat[0]:\n",
    "    print idx_to_word[i],"
   ]
  },
  {
   "cell_type": "markdown",
   "metadata": {
    "deletable": true,
    "editable": true
   },
   "source": [
    "### Constructng x_train and x_val"
   ]
  },
  {
   "cell_type": "code",
   "execution_count": 6,
   "metadata": {
    "collapsed": false,
    "deletable": true,
    "editable": true
   },
   "outputs": [
    {
     "name": "stdout",
     "output_type": "stream",
     "text": [
      "(20000, 17) (1000, 17)\n"
     ]
    }
   ],
   "source": [
    "x_train = train_captions_mat[:num_train_cap]\n",
    "x_val = val_captions_mat[:num_val_cap]\n",
    "print x_train.shape, x_val.shape"
   ]
  },
  {
   "cell_type": "markdown",
   "metadata": {
    "deletable": true,
    "editable": true
   },
   "source": [
    "### Constructing one-hot ecodings for y_train, y_val"
   ]
  },
  {
   "cell_type": "code",
   "execution_count": 7,
   "metadata": {
    "collapsed": false,
    "deletable": true,
    "editable": true
   },
   "outputs": [
    {
     "name": "stdout",
     "output_type": "stream",
     "text": [
      "[  1   4 142 510  10 667 415 277  58   2   0   0   0   0   0   0   0]\n",
      "(400135, 17)\n"
     ]
    }
   ],
   "source": [
    "print train_captions_mat[0]\n",
    "print train_captions_mat.shape"
   ]
  },
  {
   "cell_type": "code",
   "execution_count": 8,
   "metadata": {
    "collapsed": false,
    "deletable": true,
    "editable": true
   },
   "outputs": [
    {
     "data": {
      "text/plain": [
       "(20000, 17, 1004)"
      ]
     },
     "execution_count": 8,
     "metadata": {},
     "output_type": "execute_result"
    }
   ],
   "source": [
    "y_train = np.zeros((num_train_cap, 17, 1004))\n",
    "y_val = np.zeros((num_val_cap, 17, 1004))\n",
    "y_train.shape\n"
   ]
  },
  {
   "cell_type": "code",
   "execution_count": 9,
   "metadata": {
    "collapsed": false,
    "deletable": true,
    "editable": true
   },
   "outputs": [],
   "source": [
    "for i in range(num_train_cap):\n",
    "    for j in range(17):\n",
    "        y_train[i][j] = utils.to_categorical(train_captions_mat[i][j], 1004)\n",
    "        \n",
    "for i in range(num_val_cap):\n",
    "    for j in range(17):\n",
    "        y_val[i][j] = utils.to_categorical(val_captions_mat[i][j], 1004)"
   ]
  },
  {
   "cell_type": "code",
   "execution_count": 10,
   "metadata": {
    "collapsed": false,
    "deletable": true,
    "editable": true
   },
   "outputs": [
    {
     "name": "stdout",
     "output_type": "stream",
     "text": [
      "(20000, 17, 1004) (1000, 17, 1004)\n"
     ]
    }
   ],
   "source": [
    "print y_train.shape, y_val.shape"
   ]
  },
  {
   "cell_type": "markdown",
   "metadata": {
    "deletable": true,
    "editable": true
   },
   "source": [
    "### Rough testing"
   ]
  },
  {
   "cell_type": "code",
   "execution_count": null,
   "metadata": {
    "collapsed": false,
    "deletable": true,
    "editable": true
   },
   "outputs": [],
   "source": []
  },
  {
   "cell_type": "markdown",
   "metadata": {
    "deletable": true,
    "editable": true
   },
   "source": [
    "### Feeding input into the model to fit sentence by sentence in a LOOP"
   ]
  },
  {
   "cell_type": "code",
   "execution_count": 11,
   "metadata": {
    "collapsed": false,
    "deletable": true,
    "editable": true
   },
   "outputs": [
    {
     "name": "stdout",
     "output_type": "stream",
     "text": [
      "_________________________________________________________________\n",
      "Layer (type)                 Output Shape              Param #   \n",
      "=================================================================\n",
      "embedding_1 (Embedding)      (None, 17, 512)           514048    \n",
      "_________________________________________________________________\n",
      "lstm_1 (LSTM)                (None, 17, 512)           2099200   \n",
      "_________________________________________________________________\n",
      "dropout_1 (Dropout)          (None, 17, 512)           0         \n",
      "_________________________________________________________________\n",
      "time_distributed_1 (TimeDist (None, 17, 1004)          515052    \n",
      "_________________________________________________________________\n",
      "activation_1 (Activation)    (None, 17, 1004)          0         \n",
      "=================================================================\n",
      "Total params: 3,128,300.0\n",
      "Trainable params: 3,128,300.0\n",
      "Non-trainable params: 0.0\n",
      "_________________________________________________________________\n",
      "Train on 20000 samples, validate on 1000 samples\n",
      "INFO:tensorflow:Summary name embedding_1/embeddings:0 is illegal; using embedding_1/embeddings_0 instead.\n",
      "INFO:tensorflow:Summary name embedding_1/embeddings:0 is illegal; using embedding_1/embeddings_0 instead.\n",
      "INFO:tensorflow:Summary name lstm_1/kernel:0 is illegal; using lstm_1/kernel_0 instead.\n",
      "INFO:tensorflow:Summary name lstm_1/kernel:0 is illegal; using lstm_1/kernel_0 instead.\n",
      "INFO:tensorflow:Summary name lstm_1/recurrent_kernel:0 is illegal; using lstm_1/recurrent_kernel_0 instead.\n",
      "INFO:tensorflow:Summary name lstm_1/recurrent_kernel:0 is illegal; using lstm_1/recurrent_kernel_0 instead.\n",
      "INFO:tensorflow:Summary name lstm_1/bias:0 is illegal; using lstm_1/bias_0 instead.\n",
      "INFO:tensorflow:Summary name lstm_1/bias:0 is illegal; using lstm_1/bias_0 instead.\n",
      "INFO:tensorflow:Summary name time_distributed_1/kernel:0 is illegal; using time_distributed_1/kernel_0 instead.\n",
      "INFO:tensorflow:Summary name time_distributed_1/kernel:0 is illegal; using time_distributed_1/kernel_0 instead.\n",
      "INFO:tensorflow:Summary name time_distributed_1/bias:0 is illegal; using time_distributed_1/bias_0 instead.\n",
      "INFO:tensorflow:Summary name time_distributed_1/bias:0 is illegal; using time_distributed_1/bias_0 instead.\n",
      "Epoch 1/100\n",
      "18s - loss: 5.6485 - acc: 0.2796 - val_loss: 4.3845 - val_acc: 0.2942\n",
      "Epoch 2/100\n",
      "16s - loss: 4.2529 - acc: 0.3091 - val_loss: 4.0117 - val_acc: 0.3521\n",
      "Epoch 3/100\n",
      "16s - loss: 3.9292 - acc: 0.3648 - val_loss: 3.7579 - val_acc: 0.3797\n",
      "Epoch 4/100\n",
      "16s - loss: 3.6811 - acc: 0.3896 - val_loss: 3.5721 - val_acc: 0.4022\n",
      "Epoch 5/100\n",
      "17s - loss: 3.4963 - acc: 0.4094 - val_loss: 3.4229 - val_acc: 0.4216\n",
      "Epoch 6/100\n",
      "17s - loss: 3.3408 - acc: 0.4224 - val_loss: 3.2871 - val_acc: 0.4355\n",
      "Epoch 7/100\n",
      "16s - loss: 3.1943 - acc: 0.4580 - val_loss: 3.1530 - val_acc: 0.5127\n",
      "Epoch 8/100\n",
      "16s - loss: 3.0482 - acc: 0.5085 - val_loss: 3.0165 - val_acc: 0.5253\n",
      "Epoch 9/100\n",
      "16s - loss: 2.9069 - acc: 0.5220 - val_loss: 2.8887 - val_acc: 0.5382\n",
      "Epoch 10/100\n",
      "16s - loss: 2.7817 - acc: 0.5333 - val_loss: 2.7843 - val_acc: 0.5498\n",
      "Epoch 11/100\n",
      "17s - loss: 2.6836 - acc: 0.5446 - val_loss: 2.7041 - val_acc: 0.5618\n",
      "Epoch 12/100\n",
      "16s - loss: 2.6098 - acc: 0.5530 - val_loss: 2.6404 - val_acc: 0.5621\n",
      "Epoch 13/100\n",
      "16s - loss: 2.5475 - acc: 0.5598 - val_loss: 2.5827 - val_acc: 0.5721\n",
      "Epoch 14/100\n",
      "16s - loss: 2.4914 - acc: 0.5682 - val_loss: 2.5266 - val_acc: 0.5837\n",
      "Epoch 15/100\n",
      "16s - loss: 2.4407 - acc: 0.5775 - val_loss: 2.4804 - val_acc: 0.5883\n",
      "Epoch 16/100\n",
      "17s - loss: 2.3989 - acc: 0.5853 - val_loss: 2.4437 - val_acc: 0.5960\n",
      "Epoch 17/100\n",
      "16s - loss: 2.3646 - acc: 0.5913 - val_loss: 2.4147 - val_acc: 0.6025\n",
      "Epoch 18/100\n",
      "16s - loss: 2.3332 - acc: 0.5975 - val_loss: 2.3881 - val_acc: 0.6051\n",
      "Epoch 19/100\n",
      "16s - loss: 2.3040 - acc: 0.6027 - val_loss: 2.3623 - val_acc: 0.6090\n",
      "Epoch 20/100\n",
      "16s - loss: 2.2713 - acc: 0.6094 - val_loss: 2.3344 - val_acc: 0.6162\n",
      "Epoch 21/100\n",
      "17s - loss: 2.2368 - acc: 0.6167 - val_loss: 2.3023 - val_acc: 0.6277\n",
      "Epoch 22/100\n",
      "16s - loss: 2.1975 - acc: 0.6262 - val_loss: 2.2659 - val_acc: 0.6450\n",
      "Epoch 23/100\n",
      "16s - loss: 2.1577 - acc: 0.6373 - val_loss: 2.2309 - val_acc: 0.6533\n",
      "Epoch 24/100\n",
      "16s - loss: 2.1174 - acc: 0.6483 - val_loss: 2.1962 - val_acc: 0.6650\n",
      "Epoch 25/100\n",
      "16s - loss: 2.0789 - acc: 0.6580 - val_loss: 2.1621 - val_acc: 0.6723\n",
      "Epoch 26/100\n",
      "17s - loss: 2.0408 - acc: 0.6667 - val_loss: 2.1276 - val_acc: 0.6777\n",
      "Epoch 27/100\n",
      "16s - loss: 2.0038 - acc: 0.6744 - val_loss: 2.0935 - val_acc: 0.6808\n",
      "Epoch 28/100\n",
      "16s - loss: 1.9666 - acc: 0.6819 - val_loss: 2.0591 - val_acc: 0.6832\n",
      "Epoch 29/100\n",
      "16s - loss: 1.9287 - acc: 0.6885 - val_loss: 2.0261 - val_acc: 0.6906\n",
      "Epoch 30/100\n",
      "16s - loss: 1.8930 - acc: 0.6942 - val_loss: 1.9953 - val_acc: 0.6927\n",
      "Epoch 31/100\n",
      "17s - loss: 1.8589 - acc: 0.6984 - val_loss: 1.9667 - val_acc: 0.6945\n",
      "Epoch 32/100\n",
      "16s - loss: 1.8276 - acc: 0.7022 - val_loss: 1.9411 - val_acc: 0.6960\n",
      "Epoch 33/100\n",
      "16s - loss: 1.8010 - acc: 0.7050 - val_loss: 1.9182 - val_acc: 0.6983\n",
      "Epoch 34/100\n",
      "16s - loss: 1.7758 - acc: 0.7077 - val_loss: 1.8992 - val_acc: 0.6994\n",
      "Epoch 35/100\n",
      "16s - loss: 1.7535 - acc: 0.7097 - val_loss: 1.8813 - val_acc: 0.6999\n",
      "Epoch 36/100\n",
      "18s - loss: 1.7333 - acc: 0.7120 - val_loss: 1.8659 - val_acc: 0.7009\n",
      "Epoch 37/100\n",
      "16s - loss: 1.7140 - acc: 0.7140 - val_loss: 1.8505 - val_acc: 0.7023\n",
      "Epoch 38/100\n",
      "16s - loss: 1.6953 - acc: 0.7160 - val_loss: 1.8348 - val_acc: 0.7034\n",
      "Epoch 39/100\n",
      "16s - loss: 1.6781 - acc: 0.7181 - val_loss: 1.8223 - val_acc: 0.7046\n",
      "Epoch 40/100\n",
      "17s - loss: 1.6615 - acc: 0.7201 - val_loss: 1.8086 - val_acc: 0.7070\n",
      "Epoch 41/100\n",
      "18s - loss: 1.6447 - acc: 0.7226 - val_loss: 1.7950 - val_acc: 0.7092\n",
      "Epoch 42/100\n",
      "17s - loss: 1.6286 - acc: 0.7253 - val_loss: 1.7827 - val_acc: 0.7114\n",
      "Epoch 43/100\n",
      "16s - loss: 1.6131 - acc: 0.7279 - val_loss: 1.7701 - val_acc: 0.7161\n",
      "Epoch 44/100\n",
      "16s - loss: 1.5986 - acc: 0.7308 - val_loss: 1.7570 - val_acc: 0.7196\n",
      "Epoch 45/100\n",
      "16s - loss: 1.5837 - acc: 0.7338 - val_loss: 1.7450 - val_acc: 0.7222\n",
      "Epoch 46/100\n",
      "17s - loss: 1.5692 - acc: 0.7364 - val_loss: 1.7324 - val_acc: 0.7239\n",
      "Epoch 47/100\n",
      "16s - loss: 1.5541 - acc: 0.7390 - val_loss: 1.7207 - val_acc: 0.7252\n",
      "Epoch 48/100\n",
      "16s - loss: 1.5417 - acc: 0.7412 - val_loss: 1.7089 - val_acc: 0.7265\n",
      "Epoch 49/100\n",
      "16s - loss: 1.5278 - acc: 0.7436 - val_loss: 1.6984 - val_acc: 0.7284\n",
      "Epoch 50/100\n",
      "16s - loss: 1.5142 - acc: 0.7460 - val_loss: 1.6868 - val_acc: 0.7301\n",
      "Epoch 51/100\n",
      "17s - loss: 1.5020 - acc: 0.7482 - val_loss: 1.6763 - val_acc: 0.7317\n",
      "Epoch 52/100\n",
      "16s - loss: 1.4897 - acc: 0.7499 - val_loss: 1.6640 - val_acc: 0.7338\n",
      "Epoch 53/100\n",
      "16s - loss: 1.4769 - acc: 0.7524 - val_loss: 1.6530 - val_acc: 0.7351\n",
      "Epoch 54/100\n",
      "16s - loss: 1.4656 - acc: 0.7541 - val_loss: 1.6438 - val_acc: 0.7355\n",
      "Epoch 55/100\n",
      "16s - loss: 1.4541 - acc: 0.7563 - val_loss: 1.6343 - val_acc: 0.7371\n",
      "Epoch 56/100\n",
      "17s - loss: 1.4421 - acc: 0.7586 - val_loss: 1.6223 - val_acc: 0.7401\n",
      "Epoch 57/100\n",
      "16s - loss: 1.4315 - acc: 0.7599 - val_loss: 1.6121 - val_acc: 0.7434\n",
      "Epoch 58/100\n",
      "18s - loss: 1.4213 - acc: 0.7624 - val_loss: 1.6027 - val_acc: 0.7449\n",
      "Epoch 59/100\n",
      "16s - loss: 1.4110 - acc: 0.7642 - val_loss: 1.5953 - val_acc: 0.7451\n",
      "Epoch 60/100\n",
      "18s - loss: 1.4008 - acc: 0.7658 - val_loss: 1.5844 - val_acc: 0.7522\n",
      "Epoch 61/100\n",
      "17s - loss: 1.3904 - acc: 0.7683 - val_loss: 1.5744 - val_acc: 0.7531\n",
      "Epoch 62/100\n",
      "16s - loss: 1.3807 - acc: 0.7698 - val_loss: 1.5666 - val_acc: 0.7554\n",
      "Epoch 63/100\n",
      "16s - loss: 1.3710 - acc: 0.7719 - val_loss: 1.5580 - val_acc: 0.7565\n",
      "Epoch 64/100\n",
      "16s - loss: 1.3611 - acc: 0.7737 - val_loss: 1.5505 - val_acc: 0.7592\n",
      "Epoch 65/100\n",
      "16s - loss: 1.3519 - acc: 0.7757 - val_loss: 1.5405 - val_acc: 0.7621\n",
      "Epoch 66/100\n",
      "17s - loss: 1.3427 - acc: 0.7772 - val_loss: 1.5327 - val_acc: 0.7640\n",
      "Epoch 67/100\n",
      "16s - loss: 1.3339 - acc: 0.7790 - val_loss: 1.5246 - val_acc: 0.7648\n",
      "Epoch 68/100\n",
      "16s - loss: 1.3240 - acc: 0.7806 - val_loss: 1.5156 - val_acc: 0.7656\n",
      "Epoch 69/100\n",
      "16s - loss: 1.3148 - acc: 0.7825 - val_loss: 1.5093 - val_acc: 0.7662\n",
      "Epoch 70/100\n",
      "16s - loss: 1.3064 - acc: 0.7838 - val_loss: 1.5030 - val_acc: 0.7668\n",
      "Epoch 71/100\n",
      "17s - loss: 1.2977 - acc: 0.7850 - val_loss: 1.4933 - val_acc: 0.7681\n",
      "Epoch 72/100\n",
      "16s - loss: 1.2893 - acc: 0.7868 - val_loss: 1.4850 - val_acc: 0.7690\n",
      "Epoch 73/100\n",
      "16s - loss: 1.2808 - acc: 0.7883 - val_loss: 1.4780 - val_acc: 0.7698\n",
      "Epoch 74/100\n",
      "16s - loss: 1.2720 - acc: 0.7895 - val_loss: 1.4723 - val_acc: 0.7706\n",
      "Epoch 75/100\n",
      "16s - loss: 1.2635 - acc: 0.7911 - val_loss: 1.4623 - val_acc: 0.7714\n",
      "Epoch 76/100\n",
      "17s - loss: 1.2563 - acc: 0.7922 - val_loss: 1.4557 - val_acc: 0.7732\n",
      "Epoch 77/100\n",
      "16s - loss: 1.2478 - acc: 0.7934 - val_loss: 1.4487 - val_acc: 0.7740\n",
      "Epoch 78/100\n",
      "16s - loss: 1.2388 - acc: 0.7946 - val_loss: 1.4419 - val_acc: 0.7748\n",
      "Epoch 79/100\n",
      "16s - loss: 1.2306 - acc: 0.7960 - val_loss: 1.4330 - val_acc: 0.7757\n",
      "Epoch 80/100\n",
      "17s - loss: 1.2223 - acc: 0.7974 - val_loss: 1.4277 - val_acc: 0.7762\n",
      "Epoch 81/100\n",
      "17s - loss: 1.2146 - acc: 0.7985 - val_loss: 1.4194 - val_acc: 0.7774\n",
      "Epoch 82/100\n",
      "17s - loss: 1.2072 - acc: 0.7997 - val_loss: 1.4139 - val_acc: 0.7782\n",
      "Epoch 83/100\n",
      "17s - loss: 1.1992 - acc: 0.8009 - val_loss: 1.4057 - val_acc: 0.7789\n",
      "Epoch 84/100\n",
      "16s - loss: 1.1912 - acc: 0.8021 - val_loss: 1.4008 - val_acc: 0.7795\n",
      "Epoch 85/100\n",
      "17s - loss: 1.1841 - acc: 0.8034 - val_loss: 1.3941 - val_acc: 0.7804\n",
      "Epoch 86/100\n",
      "17s - loss: 1.1758 - acc: 0.8050 - val_loss: 1.3861 - val_acc: 0.7814\n",
      "Epoch 87/100\n",
      "16s - loss: 1.1687 - acc: 0.8058 - val_loss: 1.3787 - val_acc: 0.7824\n",
      "Epoch 88/100\n",
      "16s - loss: 1.1608 - acc: 0.8070 - val_loss: 1.3734 - val_acc: 0.7832\n",
      "Epoch 89/100\n",
      "16s - loss: 1.1542 - acc: 0.8083 - val_loss: 1.3669 - val_acc: 0.7842\n",
      "Epoch 90/100\n",
      "16s - loss: 1.1467 - acc: 0.8096 - val_loss: 1.3590 - val_acc: 0.7846\n",
      "Epoch 91/100\n",
      "17s - loss: 1.1387 - acc: 0.8108 - val_loss: 1.3534 - val_acc: 0.7859\n",
      "Epoch 92/100\n",
      "16s - loss: 1.1318 - acc: 0.8121 - val_loss: 1.3476 - val_acc: 0.7868\n",
      "Epoch 93/100\n",
      "16s - loss: 1.1254 - acc: 0.8134 - val_loss: 1.3403 - val_acc: 0.7879\n",
      "Epoch 94/100\n",
      "16s - loss: 1.1180 - acc: 0.8147 - val_loss: 1.3364 - val_acc: 0.7894\n",
      "Epoch 95/100\n",
      "16s - loss: 1.1104 - acc: 0.8161 - val_loss: 1.3288 - val_acc: 0.7921\n",
      "Epoch 96/100\n",
      "17s - loss: 1.1039 - acc: 0.8170 - val_loss: 1.3222 - val_acc: 0.7929\n",
      "Epoch 97/100\n",
      "16s - loss: 1.0973 - acc: 0.8187 - val_loss: 1.3170 - val_acc: 0.7942\n",
      "Epoch 98/100\n",
      "16s - loss: 1.0909 - acc: 0.8196 - val_loss: 1.3110 - val_acc: 0.7953\n",
      "Epoch 99/100\n",
      "16s - loss: 1.0829 - acc: 0.8210 - val_loss: 1.3047 - val_acc: 0.7964\n",
      "Epoch 100/100\n",
      "16s - loss: 1.0773 - acc: 0.8224 - val_loss: 1.2986 - val_acc: 0.7972\n"
     ]
    }
   ],
   "source": [
    "# create the model\n",
    "embedding_vector_length = 512\n",
    "vocabulary_size = 1004\n",
    "max_caption_length = 17\n",
    "batch_size = 32              # one parameter update per sentence\n",
    "num_classes = 1004\n",
    "\n",
    "model = Sequential()\n",
    "model.add(Embedding(input_dim=vocabulary_size,  \n",
    "                    output_dim=embedding_vector_length, input_length=17))\n",
    "model.add(LSTM(512, unroll=True, return_sequences=True, implementation=2, stateful=False))\n",
    "model.add(Dropout(rate=0.5))\n",
    "model.add(TimeDistributed(Dense(num_classes)))\n",
    "model.add(Activation('softmax'))\n",
    "\n",
    "sgd = optimizers.SGD(lr=0.01, momentum=0.0, nesterov=False)\n",
    "model.compile(loss='categorical_crossentropy', optimizer=sgd, metrics=['accuracy'])\n",
    "\n",
    "model.summary()\n",
    "# path to checkpoints\n",
    "filepath = './checkpoints/weights-{epoch:02d}-{val_acc:.2f}.hdf5'\n",
    "checkpoint = callbacks.ModelCheckpoint(filepath, monitor='val_acc', save_best_only=True, verbose=0, mode='max')\n",
    "board = callbacks.TensorBoard(log_dir='./logs', histogram_freq=5, write_graph=True, write_images=True)\n",
    "\n",
    "\n",
    "model_history = model.fit(x_train, y_train, verbose=2, callbacks=[checkpoint, board], validation_data=(x_val, y_val),\n",
    "                              batch_size=batch_size, shuffle=True, epochs=100)\n",
    "\n",
    "#score = model.evaluate(x_val, y_val, verbose=2, batch_size=batch_size)"
   ]
  },
  {
   "cell_type": "code",
   "execution_count": 13,
   "metadata": {
    "collapsed": false,
    "deletable": true,
    "editable": true
   },
   "outputs": [
    {
     "name": "stdout",
     "output_type": "stream",
     "text": [
      "[  1   4  42   3 131  66   8  41   6   4   3   2   0   0   0   0   0]\n"
     ]
    }
   ],
   "source": [
    "print x_val[1]"
   ]
  },
  {
   "cell_type": "code",
   "execution_count": 42,
   "metadata": {
    "collapsed": false,
    "deletable": true,
    "editable": true
   },
   "outputs": [
    {
     "data": {
      "text/plain": [
       "array([ 1,  4, 28, 26,  3, 13, 33, 38,  3, 50,  4,  3, 38,  8,  2,  0,  0])"
      ]
     },
     "execution_count": 42,
     "metadata": {},
     "output_type": "execute_result"
    }
   ],
   "source": [
    "prediction = model.predict_classes(x_val, verbose=2)[3]\n",
    "prediction"
   ]
  },
  {
   "cell_type": "code",
   "execution_count": 43,
   "metadata": {
    "collapsed": false,
    "deletable": true,
    "editable": true
   },
   "outputs": [],
   "source": [
    "actual = val_captions_mat[3]"
   ]
  },
  {
   "cell_type": "code",
   "execution_count": 44,
   "metadata": {
    "collapsed": false,
    "deletable": true,
    "editable": true
   },
   "outputs": [
    {
     "name": "stdout",
     "output_type": "stream",
     "text": [
      "1\n",
      "4\n",
      "28\n",
      "26\n",
      "3\n",
      "13\n",
      "33\n",
      "38\n",
      "3\n",
      "50\n",
      "4\n",
      "3\n",
      "38\n",
      "8\n",
      "2\n",
      "0\n",
      "0\n"
     ]
    }
   ],
   "source": [
    "# for i, v in enumerate(data['idx_to_word']):\n",
    "#     print i, v\n",
    "for i in prediction:\n",
    "    print i"
   ]
  },
  {
   "cell_type": "code",
   "execution_count": 45,
   "metadata": {
    "collapsed": true,
    "deletable": true,
    "editable": true
   },
   "outputs": [],
   "source": [
    "def arr_to_sent(predicted, actual):\n",
    "    s = []\n",
    "    m = data['idx_to_word']\n",
    "    for i in predicted:\n",
    "        s.append(m[i])\n",
    "    print \" \".join(s)\n",
    "    s = []\n",
    "    for i in actual:\n",
    "        s.append(m[i])\n",
    "    print \" \".join(s)"
   ]
  },
  {
   "cell_type": "code",
   "execution_count": 46,
   "metadata": {
    "collapsed": false,
    "deletable": true,
    "editable": true
   },
   "outputs": [
    {
     "name": "stdout",
     "output_type": "stream",
     "text": [
      "<START> a person that <UNK> to top near <UNK> by a <UNK> near in <END> <NULL> <NULL>\n",
      "<START> a car that <UNK> to be parked <UNK> behind a <UNK> parked car <END> <NULL> <NULL>\n"
     ]
    }
   ],
   "source": [
    "arr_to_sent(prediction, actual)"
   ]
  },
  {
   "cell_type": "code",
   "execution_count": null,
   "metadata": {
    "collapsed": true,
    "deletable": true,
    "editable": true
   },
   "outputs": [],
   "source": []
  }
 ],
 "metadata": {
  "kernelspec": {
   "display_name": "Python 2",
   "language": "python",
   "name": "python2"
  },
  "language_info": {
   "codemirror_mode": {
    "name": "ipython",
    "version": 2
   },
   "file_extension": ".py",
   "mimetype": "text/x-python",
   "name": "python",
   "nbconvert_exporter": "python",
   "pygments_lexer": "ipython2",
   "version": "2.7.13"
  }
 },
 "nbformat": 4,
 "nbformat_minor": 0
}
